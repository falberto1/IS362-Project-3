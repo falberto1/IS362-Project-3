{
 "cells": [
  {
   "cell_type": "code",
   "execution_count": null,
   "id": "b4bb22f3",
   "metadata": {},
   "outputs": [],
   "source": [
    "#used sqlite for this assignment & loaded packages\n",
    "import  pandas as pd\n",
    "import sqlite3\n",
    "from sqlalchemy import create_engine"
   ]
  },
  {
   "cell_type": "code",
   "execution_count": null,
   "id": "9458d9a0",
   "metadata": {},
   "outputs": [],
   "source": [
    "#Read and connect to the data\n",
    "con = sqlite3.connect(\"C:/Users/franklin/Desktop/Chinook/Chinook_Sqlite.sqlite\")\n",
    "tracks = pd.read_sql_query(\"SELECT * from Track\", con=con)"
   ]
  },
  {
   "cell_type": "markdown",
   "id": "c37ed433",
   "metadata": {},
   "source": [
    "Create a pandas DataFrame\n",
    "\n",
    "A DataFrame that displays Customers’ Last Name and First Name, and each customer’s purchased Track names and Album Titles. What the first five rows of your results should look like?"
   ]
  },
  {
   "cell_type": "code",
   "execution_count": null,
   "id": "fec7cc68",
   "metadata": {},
   "outputs": [],
   "source": [
    "# Perform query: sql\n",
    "sql = '''SELECT c.LastName, c.FirstName, i.InvoiceId, il.InvoiceId, t.Name, a.Title\n",
    "         FROM Customer as c\n",
    "         INNER JOIN Invoice as i\n",
    "         ON c.CustomerId = i.CustomerId\n",
    "         INNER JOIN InvoiceLine as il\n",
    "         ON i.InvoiceId = il.InvoiceId\n",
    "         INNER JOIN Track as t\n",
    "         ON il.TrackId = t.TrackId\n",
    "         INNER JOIN Album as a\n",
    "         ON t.AlbumId = a.AlbumId\n",
    "         ORDER BY c.LastName, c.FirstName'''\n",
    "\n",
    "con = sqlite3.connect(\"C:/Users/franklin/Desktop/Chinook/Chinook_Sqlite.sqlite\")\n",
    "pd.read_sql_query(sql , con=con).head(5)"
   ]
  },
  {
   "cell_type": "markdown",
   "id": "55f3166f",
   "metadata": {},
   "source": [
    "\n",
    "LastName\tFirstName\tInvoiceId\tInvoiceId\tName\tTitle\n",
    "0\tAlmeida\tRoberto\t34\t34\tRight Next Door to Hell\tUse Your Illusion I\n",
    "1\tAlmeida\tRoberto\t155\t155\tIn The Evening\tIn Through The Out Door\n",
    "2\tAlmeida\tRoberto\t155\t155\tFool In The Rain\tIn Through The Out Door\n",
    "3\tAlmeida\tRoberto\t166\t166\tSaudade Dos Aviões Da Panair (Conversando No Bar)\tMinas\n",
    "4\tAlmeida\tRoberto\t166\t166\tCaso Você Queira Saber\tMinas"
   ]
  },
  {
   "cell_type": "markdown",
   "id": "23a4b62b",
   "metadata": {},
   "source": [
    "Verifying the data\n",
    "\n",
    "I noticed that the database must be slightly off from the example on the assignment so i wrote another query to determine if the data that I queried was wrong.\n",
    "\n",
    "Note I don't see Almeida ROberto when i search for Sex Machine."
   ]
  },
  {
   "cell_type": "code",
   "execution_count": null,
   "id": "491c685f",
   "metadata": {},
   "outputs": [],
   "source": [
    "sql = '''SELECT c.LastName, c.FirstName, i.InvoiceId, t.Name, a.Title\n",
    "         FROM Customer as c\n",
    "         INNER JOIN Invoice as i\n",
    "         ON c.CustomerId = i.CustomerId\n",
    "         INNER JOIN InvoiceLine as il\n",
    "         ON i.InvoiceId = il.InvoiceId\n",
    "         INNER JOIN Track as t\n",
    "         ON il.TrackId = t.TrackId\n",
    "         INNER JOIN Album as a\n",
    "         ON t.AlbumId = a.AlbumId\n",
    "         WHERE a.TItle = 'Sex Machine'\n",
    "         ORDER BY c.LastName, c.FirstName'''\n",
    "         \n",
    "con = sqlite3.connect(\"C:/Users/franklin/Desktop/Chinook/Chinook_Sqlite.sqlite\")\n",
    "pd.read_sql_query(sql , con=con)"
   ]
  },
  {
   "cell_type": "markdown",
   "id": "d8091289",
   "metadata": {},
   "source": [
    "\tLastName\tFirstName\tInvoiceId\tName\tTitle\n",
    "0\tKovács\tLadislav\t151\tOut Of Sight\tSex Machine\n",
    "1\tKovács\tLadislav\t151\tGet Up (I Feel Like Being A) Sex Machine\tSex Machine\n",
    "2\tKovács\tLadislav\t151\tIt's Too Funky In Here\tSex Machine\n",
    "...\t...\t...\t...\t...\t...\n",
    "9\tStevens\tVictor\t256\tPapa's Got A Brand New Bag Pt.1\tSex Machine\n",
    "10\tStevens\tVictor\t256\tHey America\tSex Machine\n",
    "11\tStevens\tVictor\t256\tLiving In America\tSex Machine\n",
    "12 rows × 5 columns"
   ]
  }
 ],
 "metadata": {
  "kernelspec": {
   "display_name": "Python 3 (ipykernel)",
   "language": "python",
   "name": "python3"
  },
  "language_info": {
   "codemirror_mode": {
    "name": "ipython",
    "version": 3
   },
   "file_extension": ".py",
   "mimetype": "text/x-python",
   "name": "python",
   "nbconvert_exporter": "python",
   "pygments_lexer": "ipython3",
   "version": "3.9.7"
  }
 },
 "nbformat": 4,
 "nbformat_minor": 5
}
